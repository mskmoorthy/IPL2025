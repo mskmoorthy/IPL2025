{
  "nbformat": 4,
  "nbformat_minor": 0,
  "metadata": {
    "colab": {
      "provenance": [],
      "include_colab_link": true
    },
    "kernelspec": {
      "name": "python3",
      "display_name": "Python 3"
    },
    "language_info": {
      "name": "python"
    }
  },
  "cells": [
    {
      "cell_type": "markdown",
      "metadata": {
        "id": "view-in-github",
        "colab_type": "text"
      },
      "source": [
        "<a href=\"https://colab.research.google.com/github/mskmoorthy/IPL2025/blob/main/IPL2025_v2.ipynb\" target=\"_parent\"><img src=\"https://colab.research.google.com/assets/colab-badge.svg\" alt=\"Open In Colab\"/></a>"
      ]
    },
    {
      "cell_type": "markdown",
      "source": [
        "# **After a long time, my interest in cricket was reignited - Thanks to TV Raman for rekindling my intereste in Cricket and Sharrada for getting me to watch IPL matches. Naturally I wanted to interwine Graph Theory and IPL and that resulted in this**\n"
      ],
      "metadata": {
        "id": "ygv21FkTHMxr"
      }
    },
    {
      "cell_type": "markdown",
      "source": [
        "# **We use pygraphviz and networkx - pygraphviz for graph visualization and networkx for graph properties**"
      ],
      "metadata": {
        "id": "sOfRKA-GGwbw"
      }
    },
    {
      "cell_type": "code",
      "execution_count": null,
      "metadata": {
        "colab": {
          "base_uri": "https://localhost:8080/"
        },
        "collapsed": true,
        "id": "LK2NemuM-kpt",
        "outputId": "ff31f050-bd50-4d1c-c906-2c5c55c03dae"
      },
      "outputs": [
        {
          "output_type": "stream",
          "name": "stdout",
          "text": [
            "Reading package lists... Done\n",
            "Building dependency tree... Done\n",
            "Reading state information... Done\n",
            "libgraphviz-dev is already the newest version (2.42.2-6ubuntu0.1).\n",
            "0 upgraded, 0 newly installed, 0 to remove and 30 not upgraded.\n",
            "Requirement already satisfied: pygraphviz in /usr/local/lib/python3.11/dist-packages (1.14)\n"
          ]
        }
      ],
      "source": [
        "!apt install libgraphviz-dev\n",
        "!pip install pygraphviz"
      ]
    },
    {
      "cell_type": "markdown",
      "source": [
        "# **Pygraphviz is the python interface to graphvisualization using dot format**"
      ],
      "metadata": {
        "id": "N4X2dSn6IJnk"
      }
    },
    {
      "cell_type": "code",
      "source": [
        "import pygraphviz as pgv\n"
      ],
      "metadata": {
        "id": "_As1TV7L-4o4"
      },
      "execution_count": null,
      "outputs": []
    },
    {
      "cell_type": "markdown",
      "source": [
        "# **In IPL there are two groups A and B. Each team in a group plays two matches with every other team in that group and one match to every other team in that group. Further every team plays with a specific team in the other group one more match. So essentially every team plays a total of $2 \\times 4 + 5 +1 = 14$ matches. Since there are 10 teams - there area total of 70 matches. We are interested in the league play and not the play offs.**"
      ],
      "metadata": {
        "id": "6wLVCy_BIiMu"
      }
    },
    {
      "cell_type": "markdown",
      "source": [
        "# **The first visualiztion is by intergroup matches represented as red edges and group matches are represented as blue edges. A direted edge (A,B) means team A defeats team B.**"
      ],
      "metadata": {
        "id": "o6AqvPxzJfZR"
      }
    },
    {
      "cell_type": "code",
      "source": [
        "# Create a new graph\n",
        "G = pgv.AGraph(\"graph.dot\")\n",
        "G.node_attr['fontsize']=10\n",
        "G.layout(prog=\"dot\")\n",
        "G.draw(\"g.png\")\n",
        "# Save the graph to a file"
      ],
      "metadata": {
        "id": "9KmRCugnAvoh"
      },
      "execution_count": null,
      "outputs": []
    },
    {
      "cell_type": "markdown",
      "source": [
        "# **The following representation is suggested by Dr. K. S. Raghavan. Instead of cluttering the group matches, we can have a straight line represntation of the group matches, if we can represent group matches as a bipartite graph!**"
      ],
      "metadata": {
        "id": "ddi4dp3xJ9wG"
      }
    },
    {
      "cell_type": "code",
      "source": [
        "G1 = pgv.AGraph(\"ksr_graph.dot\")\n",
        "G1.layout(prog=\"dot\")\n",
        "G1.draw(\"g1.png\")\n",
        "# Save the graph to a file\n"
      ],
      "metadata": {
        "id": "fWF8QFaJ27H5"
      },
      "execution_count": null,
      "outputs": []
    },
    {
      "cell_type": "code",
      "source": [
        "!pip install networkx"
      ],
      "metadata": {
        "colab": {
          "base_uri": "https://localhost:8080/"
        },
        "id": "U-23iSmfFEMU",
        "outputId": "b4575081-ef23-4928-85ff-7a956dc469e6"
      },
      "execution_count": null,
      "outputs": [
        {
          "output_type": "stream",
          "name": "stdout",
          "text": [
            "Requirement already satisfied: networkx in /usr/local/lib/python3.11/dist-packages (3.4.2)\n"
          ]
        }
      ]
    },
    {
      "cell_type": "markdown",
      "source": [
        "# Now we can also analyze the graph properties using networkx. The following converts the dot notation into a networkx graph representation."
      ],
      "metadata": {
        "id": "ir1M621sKfWg"
      }
    },
    {
      "cell_type": "code",
      "source": [
        "import networkx as nx\n",
        "G_1 = nx.drawing.nx_agraph.read_dot(\"graph.dot\")"
      ],
      "metadata": {
        "id": "4hHX9K9KFX02"
      },
      "execution_count": null,
      "outputs": []
    },
    {
      "cell_type": "code",
      "source": [
        "agroup={\"A\":\"CSK\",\"B\":\"DC\", \"C\": \"GT\", \"D\":\"KKR\",\"E\":\"LSG\", \"F\":\"MI\", \"G\":\"PBKS\",\"H\":\"RR\", \"I\":\"RCB\",\"PBKS\":\"G\",  \"J\":\"SRH\"}\n"
      ],
      "metadata": {
        "id": "J2YyghxzNOvP"
      },
      "execution_count": null,
      "outputs": []
    },
    {
      "cell_type": "code",
      "source": [
        "print(G_1.number_of_edges())\n",
        "print(\"Name \",\"Matches \",\"Lost  \", \" Won\")\n",
        "for a in [\"A\",\"B\",\"C\",\"D\", \"E\",\"F\",\"G\",\"H\",\"I\",\"J\"]:\n",
        "  print(agroup[a],\"\\t\",G_1.in_degree(a)+G_1.out_degree(a),\"\\t\", G_1.in_degree(a),\"\\t\",G_1.out_degree(a))\n",
        "\n"
      ],
      "metadata": {
        "colab": {
          "base_uri": "https://localhost:8080/"
        },
        "id": "aOo-mpgVFl2z",
        "outputId": "f0614caa-46ef-4b33-efb1-95806c37aa6d"
      },
      "execution_count": null,
      "outputs": [
        {
          "output_type": "stream",
          "name": "stdout",
          "text": [
            "23\n",
            "Name  Matches  Lost    Won\n",
            "CSK \t 5 \t 4 \t 1\n",
            "DC \t 3 \t 0 \t 3\n",
            "GT \t 5 \t 1 \t 4\n",
            "KKR \t 5 \t 3 \t 2\n",
            "LSG \t 5 \t 2 \t 3\n",
            "MI \t 5 \t 4 \t 1\n",
            "PBKS \t 4 \t 1 \t 3\n",
            "RR \t 5 \t 3 \t 2\n",
            "RCB \t 4 \t 1 \t 3\n",
            "SRH \t 5 \t 4 \t 1\n"
          ]
        }
      ]
    },
    {
      "cell_type": "markdown",
      "source": [
        "# Doing the same Calculation for the second representation"
      ],
      "metadata": {
        "id": "5_86jVVVrOtF"
      }
    },
    {
      "cell_type": "code",
      "source": [
        "import networkx as nx\n",
        "G_2 = nx.drawing.nx_agraph.read_dot(\"ksr_graph.dot\")"
      ],
      "metadata": {
        "id": "ok8J3LczlrVd"
      },
      "execution_count": null,
      "outputs": []
    },
    {
      "cell_type": "code",
      "source": [
        "print(G_2.number_of_edges())"
      ],
      "metadata": {
        "colab": {
          "base_uri": "https://localhost:8080/"
        },
        "id": "i2TxC9bllzly",
        "outputId": "a3e262dd-7fd7-42bc-c575-9117ad06ea6d"
      },
      "execution_count": null,
      "outputs": [
        {
          "output_type": "stream",
          "name": "stdout",
          "text": [
            "23\n"
          ]
        }
      ]
    },
    {
      "cell_type": "code",
      "source": [
        "bgroup={\"A1\":\"CSK\",\"B1\":\"DC\", \"C1\": \"GT\", \"D1\":\"KKR\",\"E1\":\"LSG\", \"F1\":\"MI\", \"G1\":\"PBKS\",\"H1\":\"RR\", \"I1\":\"RCB\",\"J1\":\"SRH\"}\n",
        "merge_dict = agroup | bgroup\n",
        "win ={\"CSK\":0,\"DC\":0,\"GT\":0,\"KKR\":0,\"LSG\":0,\"MI\":0,\"PBKS\":0,\"RR\":0,\"RCB\":0,\"SRH\":0}\n",
        "loss ={\"CSK\":0,\"DC\":0,\"GT\":0,\"KKR\":0,\"LSG\":0,\"MI\":0,\"PBKS\":0,\"RR\":0,\"RCB\":0,\"SRH\":0}\n",
        "match ={\"CSK\":0,\"DC\":0,\"GT\":0,\"KKR\":0,\"LSG\":0,\"MI\":0,\"PBKS\":0,\"RR\":0,\"RCB\":0,\"SRH\":0}\n",
        "for e in G_2.edges():\n",
        "  match[merge_dict[e[0]]]+=1\n",
        "  match[merge_dict[e[1]]]+=1\n",
        "  win[merge_dict[e[0]]]+=1\n",
        "  loss[merge_dict[e[1]]]+=1\n",
        "print(\"Name \",\"Matches \",\"Lost  \", \" Won\")\n",
        "for a in [\"A\",\"B\",\"C\",\"D\", \"E\",\"F\",\"G\",\"H\",\"I\",\"J\"]:\n",
        "  print(agroup[a],\"\\t\",match[agroup[a]],\"\\t\", loss[agroup[a]],\"\\t\",win[agroup[a]])\n"
      ],
      "metadata": {
        "colab": {
          "base_uri": "https://localhost:8080/"
        },
        "id": "bQws6gMHmf7v",
        "outputId": "730354b5-0811-48ab-deb3-a72fb17f1088"
      },
      "execution_count": null,
      "outputs": [
        {
          "output_type": "stream",
          "name": "stdout",
          "text": [
            "Name  Matches  Lost    Won\n",
            "CSK \t 5 \t 4 \t 1\n",
            "DC \t 3 \t 0 \t 3\n",
            "GT \t 5 \t 1 \t 4\n",
            "KKR \t 5 \t 3 \t 2\n",
            "LSG \t 5 \t 2 \t 3\n",
            "MI \t 5 \t 4 \t 1\n",
            "PBKS \t 4 \t 1 \t 3\n",
            "RR \t 5 \t 3 \t 2\n",
            "RCB \t 4 \t 1 \t 3\n",
            "SRH \t 5 \t 4 \t 1\n"
          ]
        }
      ]
    }
  ]
}